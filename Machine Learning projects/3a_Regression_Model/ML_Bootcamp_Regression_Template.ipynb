{
  "nbformat": 4,
  "nbformat_minor": 0,
  "metadata": {
    "colab": {
      "provenance": [],
      "collapsed_sections": [
        "ui9HCoerL1ei"
      ],
      "authorship_tag": "ABX9TyOy5xBALKpkaL87tOrDoICI",
      "include_colab_link": true
    },
    "kernelspec": {
      "name": "python3",
      "display_name": "Python 3"
    },
    "language_info": {
      "name": "python"
    }
  },
  "cells": [
    {
      "cell_type": "markdown",
      "metadata": {
        "id": "view-in-github",
        "colab_type": "text"
      },
      "source": [
        "<a href=\"https://colab.research.google.com/github/BYUIDSS/DSS-ML-Bootcamp/blob/main/3a_Regression_Model/ML_Bootcamp_Regression_Template.ipynb\" target=\"_parent\"><img src=\"https://colab.research.google.com/assets/colab-badge.svg\" alt=\"Open In Colab\"/></a>"
      ]
    },
    {
      "cell_type": "markdown",
      "source": [
        "# Regression Machine Learning Model 🧠  📈\n",
        "\n",
        "---\n",
        "\n"
      ],
      "metadata": {
        "id": "AHAWitwpCmVO"
      }
    },
    {
      "cell_type": "markdown",
      "source": [
        "### 🔴 PLEASE COPY THIS NOTEBOOK INTO YOUR OWN GITHUB OR GOOGLE DRIVE DO NOT MODIFY THIS VERSION🔴"
      ],
      "metadata": {
        "id": "2niUAymxL6SK"
      }
    },
    {
      "cell_type": "markdown",
      "source": [
        "\n",
        "## Overview"
      ],
      "metadata": {
        "id": "ui9HCoerL1ei"
      }
    },
    {
      "cell_type": "markdown",
      "source": [
        "\n",
        "**XGBoost Regression is a supervised machine learning algorithm that builds an ensemble of decision trees to predict continuous values. It is optimized for speed and performance using gradient boosting techniques.**  \n",
        "\n",
        "<br>\n",
        "\n",
        "---\n",
        "\n",
        "<br>\n",
        "\n",
        "**Definition**  \n",
        "XGBoost (Extreme Gradient Boosting) is an advanced implementation of gradient boosting designed for efficiency and accuracy. It improves predictions by sequentially training trees while correcting previous errors. The key components include:  \n",
        "\n",
        "* **Boosting Trees**: A collection of decision trees built sequentially to reduce errors.  \n",
        "* **Gradient Descent Optimization**: Adjusts model weights using the gradient of a loss function.  \n",
        "* **Regularization**: Controls model complexity to prevent overfitting.  \n",
        "\n",
        "For **regression**, XGBoost predicts continuous values by minimizing a chosen loss function, commonly Mean Squared Error (MSE) or Mean Absolute Error (MAE).  \n",
        "\n",
        "<br>\n",
        "\n",
        "---\n",
        "\n",
        "<br>\n",
        "\n",
        "**Key Concepts**  \n",
        "1. **Boosting Mechanism**:  \n",
        "   - Unlike a single decision tree, XGBoost builds multiple trees in sequence.  \n",
        "   - Each new tree corrects the errors of the previous ones by focusing on residuals.  \n",
        "\n",
        "2. **Loss Functions**:  \n",
        "   - Determines how errors are measured and minimized.  \n",
        "   - Common choices:  \n",
        "     * **Mean Squared Error (MSE)** – Penalizes larger errors more heavily.  \n",
        "     * **Mean Absolute Error (MAE)** – Treats all errors equally.  \n",
        "     * **Huber Loss** – A mix of MSE and MAE to handle outliers.  \n",
        "\n",
        "3. **Regularization Techniques**:  \n",
        "   - Prevents overfitting by adding penalties to complex models.  \n",
        "   - **L1 Regularization (Lasso)** – Shrinks coefficients, promoting sparsity.  \n",
        "   - **L2 Regularization (Ridge)** – Penalizes large coefficients to reduce variance.  \n",
        "\n",
        "4. **Feature Importance & Selection**:  \n",
        "   - XGBoost ranks features by importance, aiding feature selection.  \n",
        "   - Can be used to eliminate redundant or irrelevant features.  \n",
        "\n",
        "<br>\n",
        "\n",
        "---\n",
        "\n",
        "<br>\n",
        "\n",
        "**Pros**  \n",
        "1. **High Performance** – Optimized for speed, scalability, and efficiency.  \n",
        "2. **Handles Missing Data** – Automatically learns how to deal with missing values.  \n",
        "3. **Regularization Built-in** – Reduces overfitting with L1 and L2 penalties.  \n",
        "4. **Works Well with Large Datasets** – Efficient memory usage and parallel processing.  \n",
        "\n",
        "<br>\n",
        "\n",
        "---\n",
        "\n",
        "<br>\n",
        "\n",
        "**Cons**  \n",
        "1. **Complexity** – More difficult to tune compared to simpler models.  \n",
        "2. **Computationally Intensive** – Training can be slow on very large datasets.  \n",
        "3. **Sensitive to Hyperparameters** – Performance depends on careful tuning of learning rate, tree depth, and regularization.  \n",
        "\n",
        "<br>\n",
        "\n",
        "---\n",
        "\n",
        "<br>\n",
        "\n",
        "**Tips**  \n",
        "* **Optimize Hyperparameters** – Use grid search or Bayesian optimization for tuning.  \n",
        "* **Use Early Stopping** – Stops training if performance stops improving on validation data.  \n",
        "* **Scale Features if Needed** – Although XGBoost can handle unscaled data, standardization may help in some cases.  \n",
        "* **Leverage Feature Importance** – Identify and remove less relevant features to improve efficiency.  \n",
        "\n",
        "<br>\n",
        "\n",
        "---\n",
        "\n",
        "<br>\n",
        "\n",
        "**Useful Articles and Videos**  \n",
        "* [XGBoost Official Documentation](https://xgboost.readthedocs.io/en/stable/tutorials/model.html)  \n",
        "* [XGBoost for Regression – Machine Learning Mastery](https://machinelearningmastery.com/xgboost-for-regression/)  \n",
        "* [Understanding XGBoost – Analytics Vidhya](https://www.analyticsvidhya.com/blog/2016/01/xgboost-algorithm-easy-steps/)  \n",
        "* [XGBoost Explained – YouTube](https://www.youtube.com/watch?v=OtD8wVaFm6E)  \n",
        "\n",
        "<br>\n"
      ],
      "metadata": {
        "id": "KoKmsmdLC8f9"
      }
    },
    {
      "cell_type": "markdown",
      "source": [
        "## Import Data/Libraries"
      ],
      "metadata": {
        "id": "sZVO9xtJJIuG"
      }
    },
    {
      "cell_type": "code",
      "source": [
        "!pip install lets_plot"
      ],
      "metadata": {
        "id": "XovyWRX24bZj",
        "colab": {
          "base_uri": "https://localhost:8080/"
        },
        "outputId": "2ac6dc9d-9566-4ec3-b6a6-5483111411ae"
      },
      "execution_count": 5,
      "outputs": [
        {
          "output_type": "stream",
          "name": "stdout",
          "text": [
            "Requirement already satisfied: lets_plot in /usr/local/lib/python3.11/dist-packages (4.6.1)\n",
            "Requirement already satisfied: pypng in /usr/local/lib/python3.11/dist-packages (from lets_plot) (0.20220715.0)\n",
            "Requirement already satisfied: palettable in /usr/local/lib/python3.11/dist-packages (from lets_plot) (3.3.3)\n"
          ]
        }
      ]
    },
    {
      "cell_type": "code",
      "execution_count": 6,
      "metadata": {
        "id": "HWL1QsBFCYTe"
      },
      "outputs": [],
      "source": [
        "# needed libraries for Regression models\n",
        "import pandas as pd\n",
        "from sklearn import tree\n",
        "import xgboost as xgb\n",
        "from sklearn.metrics import confusion_matrix, accuracy_score, f1_score, recall_score, precision_score, mean_squared_error\n",
        "from sklearn.model_selection import cross_val_score,  train_test_split , KFold, GridSearchCV\n",
        "from sklearn.preprocessing import StandardScaler, Normalizer\n",
        "import lets_plot as lp\n",
        "import matplotlib.pyplot as plt\n",
        "import numpy as np\n",
        "import seaborn as sns\n",
        "import kagglehub\n",
        "import statsmodels.api as sm\n",
        "import statsmodels.formula.api as smf\n",
        "\n",
        "# foundation dataset\n",
        "#### If this gives an error go into the Data folder in GitHub and click on the baseball data csv and then click \"Raw\" (underneath history in the upper righthand corner) then copy that url to replace the \"data_raw_url\"\n",
        "data_raw_url = \"https://raw.githubusercontent.com/BYUIDSS/DSS-ML-Bootcamp/refs/heads/main/3a_Regression_Model/Data/nyc-east-river-bicycle-counts.csv?token=GHSAT0AAAAAAC6JBYNOYS7FRMQ2VJSQ5HZ6Z6N4UCQ\"\n",
        "bicycle_df = pd.read_csv(data_raw_url)"
      ]
    },
    {
      "cell_type": "markdown",
      "source": [
        "## Explore, Visualize and Understand the Data"
      ],
      "metadata": {
        "id": "7eveNgiiJPAZ"
      }
    },
    {
      "cell_type": "code",
      "source": [
        "bicycle_df.head(10)"
      ],
      "metadata": {
        "id": "j-9s4kegJeVc",
        "colab": {
          "base_uri": "https://localhost:8080/",
          "height": 363
        },
        "outputId": "f4382cce-a829-4637-9c0f-f71d31bffb1d"
      },
      "execution_count": 7,
      "outputs": [
        {
          "output_type": "execute_result",
          "data": {
            "text/plain": [
              "   Unnamed: 0                 Date                  Day  High Temp (°F)  \\\n",
              "0           0  2016-04-01 00:00:00  2016-04-01 00:00:00            78.1   \n",
              "1           1  2016-04-02 00:00:00  2016-04-02 00:00:00            55.0   \n",
              "2           2  2016-04-03 00:00:00  2016-04-03 00:00:00            39.9   \n",
              "3           3  2016-04-04 00:00:00  2016-04-04 00:00:00            44.1   \n",
              "4           4  2016-04-05 00:00:00  2016-04-05 00:00:00            42.1   \n",
              "5           5  2016-04-06 00:00:00  2016-04-06 00:00:00            45.0   \n",
              "6           6  2016-04-07 00:00:00  2016-04-07 00:00:00            57.0   \n",
              "7           7  2016-04-08 00:00:00  2016-04-08 00:00:00            46.9   \n",
              "8           8  2016-04-09 00:00:00  2016-04-09 00:00:00            43.0   \n",
              "9           9  2016-04-10 00:00:00  2016-04-10 00:00:00            48.9   \n",
              "\n",
              "   Low Temp (°F) Precipitation  Brooklyn Bridge  Manhattan Bridge  \\\n",
              "0           66.0          0.01           1704.0              3126   \n",
              "1           48.9          0.15            827.0              1646   \n",
              "2           34.0          0.09            526.0              1232   \n",
              "3           33.1      0.47 (S)            521.0              1067   \n",
              "4           26.1             0           1416.0              2617   \n",
              "5           30.0             0           1885.0              3329   \n",
              "6           53.1          0.09           1276.0              2581   \n",
              "7           44.1          0.01           1982.0              3455   \n",
              "8           37.9          0.09            504.0               997   \n",
              "9           30.9             0           1447.0              2387   \n",
              "\n",
              "   Williamsburg Bridge  Queensboro Bridge  Total  \n",
              "0               4115.0             2552.0  11497  \n",
              "1               2565.0             1884.0   6922  \n",
              "2               1695.0             1306.0   4759  \n",
              "3               1440.0             1307.0   4335  \n",
              "4               3081.0             2357.0   9471  \n",
              "5               3856.0             2849.0  11919  \n",
              "6               3282.0             2457.0   9596  \n",
              "7               4113.0             3194.0  12744  \n",
              "8               1507.0             1502.0   4510  \n",
              "9               3132.0             2160.0   9126  "
            ],
            "text/html": [
              "\n",
              "  <div id=\"df-0b5ed05c-679e-4bd7-9cf7-b172fb814634\" class=\"colab-df-container\">\n",
              "    <div>\n",
              "<style scoped>\n",
              "    .dataframe tbody tr th:only-of-type {\n",
              "        vertical-align: middle;\n",
              "    }\n",
              "\n",
              "    .dataframe tbody tr th {\n",
              "        vertical-align: top;\n",
              "    }\n",
              "\n",
              "    .dataframe thead th {\n",
              "        text-align: right;\n",
              "    }\n",
              "</style>\n",
              "<table border=\"1\" class=\"dataframe\">\n",
              "  <thead>\n",
              "    <tr style=\"text-align: right;\">\n",
              "      <th></th>\n",
              "      <th>Unnamed: 0</th>\n",
              "      <th>Date</th>\n",
              "      <th>Day</th>\n",
              "      <th>High Temp (°F)</th>\n",
              "      <th>Low Temp (°F)</th>\n",
              "      <th>Precipitation</th>\n",
              "      <th>Brooklyn Bridge</th>\n",
              "      <th>Manhattan Bridge</th>\n",
              "      <th>Williamsburg Bridge</th>\n",
              "      <th>Queensboro Bridge</th>\n",
              "      <th>Total</th>\n",
              "    </tr>\n",
              "  </thead>\n",
              "  <tbody>\n",
              "    <tr>\n",
              "      <th>0</th>\n",
              "      <td>0</td>\n",
              "      <td>2016-04-01 00:00:00</td>\n",
              "      <td>2016-04-01 00:00:00</td>\n",
              "      <td>78.1</td>\n",
              "      <td>66.0</td>\n",
              "      <td>0.01</td>\n",
              "      <td>1704.0</td>\n",
              "      <td>3126</td>\n",
              "      <td>4115.0</td>\n",
              "      <td>2552.0</td>\n",
              "      <td>11497</td>\n",
              "    </tr>\n",
              "    <tr>\n",
              "      <th>1</th>\n",
              "      <td>1</td>\n",
              "      <td>2016-04-02 00:00:00</td>\n",
              "      <td>2016-04-02 00:00:00</td>\n",
              "      <td>55.0</td>\n",
              "      <td>48.9</td>\n",
              "      <td>0.15</td>\n",
              "      <td>827.0</td>\n",
              "      <td>1646</td>\n",
              "      <td>2565.0</td>\n",
              "      <td>1884.0</td>\n",
              "      <td>6922</td>\n",
              "    </tr>\n",
              "    <tr>\n",
              "      <th>2</th>\n",
              "      <td>2</td>\n",
              "      <td>2016-04-03 00:00:00</td>\n",
              "      <td>2016-04-03 00:00:00</td>\n",
              "      <td>39.9</td>\n",
              "      <td>34.0</td>\n",
              "      <td>0.09</td>\n",
              "      <td>526.0</td>\n",
              "      <td>1232</td>\n",
              "      <td>1695.0</td>\n",
              "      <td>1306.0</td>\n",
              "      <td>4759</td>\n",
              "    </tr>\n",
              "    <tr>\n",
              "      <th>3</th>\n",
              "      <td>3</td>\n",
              "      <td>2016-04-04 00:00:00</td>\n",
              "      <td>2016-04-04 00:00:00</td>\n",
              "      <td>44.1</td>\n",
              "      <td>33.1</td>\n",
              "      <td>0.47 (S)</td>\n",
              "      <td>521.0</td>\n",
              "      <td>1067</td>\n",
              "      <td>1440.0</td>\n",
              "      <td>1307.0</td>\n",
              "      <td>4335</td>\n",
              "    </tr>\n",
              "    <tr>\n",
              "      <th>4</th>\n",
              "      <td>4</td>\n",
              "      <td>2016-04-05 00:00:00</td>\n",
              "      <td>2016-04-05 00:00:00</td>\n",
              "      <td>42.1</td>\n",
              "      <td>26.1</td>\n",
              "      <td>0</td>\n",
              "      <td>1416.0</td>\n",
              "      <td>2617</td>\n",
              "      <td>3081.0</td>\n",
              "      <td>2357.0</td>\n",
              "      <td>9471</td>\n",
              "    </tr>\n",
              "    <tr>\n",
              "      <th>5</th>\n",
              "      <td>5</td>\n",
              "      <td>2016-04-06 00:00:00</td>\n",
              "      <td>2016-04-06 00:00:00</td>\n",
              "      <td>45.0</td>\n",
              "      <td>30.0</td>\n",
              "      <td>0</td>\n",
              "      <td>1885.0</td>\n",
              "      <td>3329</td>\n",
              "      <td>3856.0</td>\n",
              "      <td>2849.0</td>\n",
              "      <td>11919</td>\n",
              "    </tr>\n",
              "    <tr>\n",
              "      <th>6</th>\n",
              "      <td>6</td>\n",
              "      <td>2016-04-07 00:00:00</td>\n",
              "      <td>2016-04-07 00:00:00</td>\n",
              "      <td>57.0</td>\n",
              "      <td>53.1</td>\n",
              "      <td>0.09</td>\n",
              "      <td>1276.0</td>\n",
              "      <td>2581</td>\n",
              "      <td>3282.0</td>\n",
              "      <td>2457.0</td>\n",
              "      <td>9596</td>\n",
              "    </tr>\n",
              "    <tr>\n",
              "      <th>7</th>\n",
              "      <td>7</td>\n",
              "      <td>2016-04-08 00:00:00</td>\n",
              "      <td>2016-04-08 00:00:00</td>\n",
              "      <td>46.9</td>\n",
              "      <td>44.1</td>\n",
              "      <td>0.01</td>\n",
              "      <td>1982.0</td>\n",
              "      <td>3455</td>\n",
              "      <td>4113.0</td>\n",
              "      <td>3194.0</td>\n",
              "      <td>12744</td>\n",
              "    </tr>\n",
              "    <tr>\n",
              "      <th>8</th>\n",
              "      <td>8</td>\n",
              "      <td>2016-04-09 00:00:00</td>\n",
              "      <td>2016-04-09 00:00:00</td>\n",
              "      <td>43.0</td>\n",
              "      <td>37.9</td>\n",
              "      <td>0.09</td>\n",
              "      <td>504.0</td>\n",
              "      <td>997</td>\n",
              "      <td>1507.0</td>\n",
              "      <td>1502.0</td>\n",
              "      <td>4510</td>\n",
              "    </tr>\n",
              "    <tr>\n",
              "      <th>9</th>\n",
              "      <td>9</td>\n",
              "      <td>2016-04-10 00:00:00</td>\n",
              "      <td>2016-04-10 00:00:00</td>\n",
              "      <td>48.9</td>\n",
              "      <td>30.9</td>\n",
              "      <td>0</td>\n",
              "      <td>1447.0</td>\n",
              "      <td>2387</td>\n",
              "      <td>3132.0</td>\n",
              "      <td>2160.0</td>\n",
              "      <td>9126</td>\n",
              "    </tr>\n",
              "  </tbody>\n",
              "</table>\n",
              "</div>\n",
              "    <div class=\"colab-df-buttons\">\n",
              "\n",
              "  <div class=\"colab-df-container\">\n",
              "    <button class=\"colab-df-convert\" onclick=\"convertToInteractive('df-0b5ed05c-679e-4bd7-9cf7-b172fb814634')\"\n",
              "            title=\"Convert this dataframe to an interactive table.\"\n",
              "            style=\"display:none;\">\n",
              "\n",
              "  <svg xmlns=\"http://www.w3.org/2000/svg\" height=\"24px\" viewBox=\"0 -960 960 960\">\n",
              "    <path d=\"M120-120v-720h720v720H120Zm60-500h600v-160H180v160Zm220 220h160v-160H400v160Zm0 220h160v-160H400v160ZM180-400h160v-160H180v160Zm440 0h160v-160H620v160ZM180-180h160v-160H180v160Zm440 0h160v-160H620v160Z\"/>\n",
              "  </svg>\n",
              "    </button>\n",
              "\n",
              "  <style>\n",
              "    .colab-df-container {\n",
              "      display:flex;\n",
              "      gap: 12px;\n",
              "    }\n",
              "\n",
              "    .colab-df-convert {\n",
              "      background-color: #E8F0FE;\n",
              "      border: none;\n",
              "      border-radius: 50%;\n",
              "      cursor: pointer;\n",
              "      display: none;\n",
              "      fill: #1967D2;\n",
              "      height: 32px;\n",
              "      padding: 0 0 0 0;\n",
              "      width: 32px;\n",
              "    }\n",
              "\n",
              "    .colab-df-convert:hover {\n",
              "      background-color: #E2EBFA;\n",
              "      box-shadow: 0px 1px 2px rgba(60, 64, 67, 0.3), 0px 1px 3px 1px rgba(60, 64, 67, 0.15);\n",
              "      fill: #174EA6;\n",
              "    }\n",
              "\n",
              "    .colab-df-buttons div {\n",
              "      margin-bottom: 4px;\n",
              "    }\n",
              "\n",
              "    [theme=dark] .colab-df-convert {\n",
              "      background-color: #3B4455;\n",
              "      fill: #D2E3FC;\n",
              "    }\n",
              "\n",
              "    [theme=dark] .colab-df-convert:hover {\n",
              "      background-color: #434B5C;\n",
              "      box-shadow: 0px 1px 3px 1px rgba(0, 0, 0, 0.15);\n",
              "      filter: drop-shadow(0px 1px 2px rgba(0, 0, 0, 0.3));\n",
              "      fill: #FFFFFF;\n",
              "    }\n",
              "  </style>\n",
              "\n",
              "    <script>\n",
              "      const buttonEl =\n",
              "        document.querySelector('#df-0b5ed05c-679e-4bd7-9cf7-b172fb814634 button.colab-df-convert');\n",
              "      buttonEl.style.display =\n",
              "        google.colab.kernel.accessAllowed ? 'block' : 'none';\n",
              "\n",
              "      async function convertToInteractive(key) {\n",
              "        const element = document.querySelector('#df-0b5ed05c-679e-4bd7-9cf7-b172fb814634');\n",
              "        const dataTable =\n",
              "          await google.colab.kernel.invokeFunction('convertToInteractive',\n",
              "                                                    [key], {});\n",
              "        if (!dataTable) return;\n",
              "\n",
              "        const docLinkHtml = 'Like what you see? Visit the ' +\n",
              "          '<a target=\"_blank\" href=https://colab.research.google.com/notebooks/data_table.ipynb>data table notebook</a>'\n",
              "          + ' to learn more about interactive tables.';\n",
              "        element.innerHTML = '';\n",
              "        dataTable['output_type'] = 'display_data';\n",
              "        await google.colab.output.renderOutput(dataTable, element);\n",
              "        const docLink = document.createElement('div');\n",
              "        docLink.innerHTML = docLinkHtml;\n",
              "        element.appendChild(docLink);\n",
              "      }\n",
              "    </script>\n",
              "  </div>\n",
              "\n",
              "\n",
              "<div id=\"df-14f2bb91-ad38-40ba-9e2b-832f42d07849\">\n",
              "  <button class=\"colab-df-quickchart\" onclick=\"quickchart('df-14f2bb91-ad38-40ba-9e2b-832f42d07849')\"\n",
              "            title=\"Suggest charts\"\n",
              "            style=\"display:none;\">\n",
              "\n",
              "<svg xmlns=\"http://www.w3.org/2000/svg\" height=\"24px\"viewBox=\"0 0 24 24\"\n",
              "     width=\"24px\">\n",
              "    <g>\n",
              "        <path d=\"M19 3H5c-1.1 0-2 .9-2 2v14c0 1.1.9 2 2 2h14c1.1 0 2-.9 2-2V5c0-1.1-.9-2-2-2zM9 17H7v-7h2v7zm4 0h-2V7h2v10zm4 0h-2v-4h2v4z\"/>\n",
              "    </g>\n",
              "</svg>\n",
              "  </button>\n",
              "\n",
              "<style>\n",
              "  .colab-df-quickchart {\n",
              "      --bg-color: #E8F0FE;\n",
              "      --fill-color: #1967D2;\n",
              "      --hover-bg-color: #E2EBFA;\n",
              "      --hover-fill-color: #174EA6;\n",
              "      --disabled-fill-color: #AAA;\n",
              "      --disabled-bg-color: #DDD;\n",
              "  }\n",
              "\n",
              "  [theme=dark] .colab-df-quickchart {\n",
              "      --bg-color: #3B4455;\n",
              "      --fill-color: #D2E3FC;\n",
              "      --hover-bg-color: #434B5C;\n",
              "      --hover-fill-color: #FFFFFF;\n",
              "      --disabled-bg-color: #3B4455;\n",
              "      --disabled-fill-color: #666;\n",
              "  }\n",
              "\n",
              "  .colab-df-quickchart {\n",
              "    background-color: var(--bg-color);\n",
              "    border: none;\n",
              "    border-radius: 50%;\n",
              "    cursor: pointer;\n",
              "    display: none;\n",
              "    fill: var(--fill-color);\n",
              "    height: 32px;\n",
              "    padding: 0;\n",
              "    width: 32px;\n",
              "  }\n",
              "\n",
              "  .colab-df-quickchart:hover {\n",
              "    background-color: var(--hover-bg-color);\n",
              "    box-shadow: 0 1px 2px rgba(60, 64, 67, 0.3), 0 1px 3px 1px rgba(60, 64, 67, 0.15);\n",
              "    fill: var(--button-hover-fill-color);\n",
              "  }\n",
              "\n",
              "  .colab-df-quickchart-complete:disabled,\n",
              "  .colab-df-quickchart-complete:disabled:hover {\n",
              "    background-color: var(--disabled-bg-color);\n",
              "    fill: var(--disabled-fill-color);\n",
              "    box-shadow: none;\n",
              "  }\n",
              "\n",
              "  .colab-df-spinner {\n",
              "    border: 2px solid var(--fill-color);\n",
              "    border-color: transparent;\n",
              "    border-bottom-color: var(--fill-color);\n",
              "    animation:\n",
              "      spin 1s steps(1) infinite;\n",
              "  }\n",
              "\n",
              "  @keyframes spin {\n",
              "    0% {\n",
              "      border-color: transparent;\n",
              "      border-bottom-color: var(--fill-color);\n",
              "      border-left-color: var(--fill-color);\n",
              "    }\n",
              "    20% {\n",
              "      border-color: transparent;\n",
              "      border-left-color: var(--fill-color);\n",
              "      border-top-color: var(--fill-color);\n",
              "    }\n",
              "    30% {\n",
              "      border-color: transparent;\n",
              "      border-left-color: var(--fill-color);\n",
              "      border-top-color: var(--fill-color);\n",
              "      border-right-color: var(--fill-color);\n",
              "    }\n",
              "    40% {\n",
              "      border-color: transparent;\n",
              "      border-right-color: var(--fill-color);\n",
              "      border-top-color: var(--fill-color);\n",
              "    }\n",
              "    60% {\n",
              "      border-color: transparent;\n",
              "      border-right-color: var(--fill-color);\n",
              "    }\n",
              "    80% {\n",
              "      border-color: transparent;\n",
              "      border-right-color: var(--fill-color);\n",
              "      border-bottom-color: var(--fill-color);\n",
              "    }\n",
              "    90% {\n",
              "      border-color: transparent;\n",
              "      border-bottom-color: var(--fill-color);\n",
              "    }\n",
              "  }\n",
              "</style>\n",
              "\n",
              "  <script>\n",
              "    async function quickchart(key) {\n",
              "      const quickchartButtonEl =\n",
              "        document.querySelector('#' + key + ' button');\n",
              "      quickchartButtonEl.disabled = true;  // To prevent multiple clicks.\n",
              "      quickchartButtonEl.classList.add('colab-df-spinner');\n",
              "      try {\n",
              "        const charts = await google.colab.kernel.invokeFunction(\n",
              "            'suggestCharts', [key], {});\n",
              "      } catch (error) {\n",
              "        console.error('Error during call to suggestCharts:', error);\n",
              "      }\n",
              "      quickchartButtonEl.classList.remove('colab-df-spinner');\n",
              "      quickchartButtonEl.classList.add('colab-df-quickchart-complete');\n",
              "    }\n",
              "    (() => {\n",
              "      let quickchartButtonEl =\n",
              "        document.querySelector('#df-14f2bb91-ad38-40ba-9e2b-832f42d07849 button');\n",
              "      quickchartButtonEl.style.display =\n",
              "        google.colab.kernel.accessAllowed ? 'block' : 'none';\n",
              "    })();\n",
              "  </script>\n",
              "</div>\n",
              "\n",
              "    </div>\n",
              "  </div>\n"
            ],
            "application/vnd.google.colaboratory.intrinsic+json": {
              "type": "dataframe",
              "variable_name": "bicycle_df",
              "summary": "{\n  \"name\": \"bicycle_df\",\n  \"rows\": 210,\n  \"fields\": [\n    {\n      \"column\": \"Unnamed: 0\",\n      \"properties\": {\n        \"dtype\": \"number\",\n        \"std\": 60,\n        \"min\": 0,\n        \"max\": 209,\n        \"num_unique_values\": 210,\n        \"samples\": [\n          30,\n          172,\n          84\n        ],\n        \"semantic_type\": \"\",\n        \"description\": \"\"\n      }\n    },\n    {\n      \"column\": \"Date\",\n      \"properties\": {\n        \"dtype\": \"object\",\n        \"num_unique_values\": 30,\n        \"samples\": [\n          \"2016-04-28 00:00:00\",\n          \"2016-04-16 00:00:00\",\n          \"2016-04-24 00:00:00\"\n        ],\n        \"semantic_type\": \"\",\n        \"description\": \"\"\n      }\n    },\n    {\n      \"column\": \"Day\",\n      \"properties\": {\n        \"dtype\": \"object\",\n        \"num_unique_values\": 30,\n        \"samples\": [\n          \"2016-04-28 00:00:00\",\n          \"2016-04-16 00:00:00\",\n          \"2016-04-24 00:00:00\"\n        ],\n        \"semantic_type\": \"\",\n        \"description\": \"\"\n      }\n    },\n    {\n      \"column\": \"High Temp (\\u00b0F)\",\n      \"properties\": {\n        \"dtype\": \"number\",\n        \"std\": 11.183223080530025,\n        \"min\": 39.9,\n        \"max\": 81.0,\n        \"num_unique_values\": 21,\n        \"samples\": [\n          78.1,\n          70.0,\n          71.1\n        ],\n        \"semantic_type\": \"\",\n        \"description\": \"\"\n      }\n    },\n    {\n      \"column\": \"Low Temp (\\u00b0F)\",\n      \"properties\": {\n        \"dtype\": \"number\",\n        \"std\": 9.522796286953058,\n        \"min\": 26.1,\n        \"max\": 66.0,\n        \"num_unique_values\": 21,\n        \"samples\": [\n          66.0,\n          61.0,\n          63.0\n        ],\n        \"semantic_type\": \"\",\n        \"description\": \"\"\n      }\n    },\n    {\n      \"column\": \"Precipitation\",\n      \"properties\": {\n        \"dtype\": \"category\",\n        \"num_unique_values\": 10,\n        \"samples\": [\n          \"0.24\",\n          \"0.15\",\n          \"0.2\"\n        ],\n        \"semantic_type\": \"\",\n        \"description\": \"\"\n      }\n    },\n    {\n      \"column\": \"Brooklyn Bridge\",\n      \"properties\": {\n        \"dtype\": \"number\",\n        \"std\": 981.2377857507366,\n        \"min\": 504.0,\n        \"max\": 3871.0,\n        \"num_unique_values\": 30,\n        \"samples\": [\n          2486.0,\n          2384.0,\n          2798.0\n        ],\n        \"semantic_type\": \"\",\n        \"description\": \"\"\n      }\n    },\n    {\n      \"column\": \"Manhattan Bridge\",\n      \"properties\": {\n        \"dtype\": \"number\",\n        \"std\": 1704,\n        \"min\": 997,\n        \"max\": 6951,\n        \"num_unique_values\": 30,\n        \"samples\": [\n          4152,\n          4316,\n          4650\n        ],\n        \"semantic_type\": \"\",\n        \"description\": \"\"\n      }\n    },\n    {\n      \"column\": \"Williamsburg Bridge\",\n      \"properties\": {\n        \"dtype\": \"number\",\n        \"std\": 1814.0394986635,\n        \"min\": 1440.0,\n        \"max\": 7834.0,\n        \"num_unique_values\": 30,\n        \"samples\": [\n          5336.0,\n          5624.0,\n          5335.0\n        ],\n        \"semantic_type\": \"\",\n        \"description\": \"\"\n      }\n    },\n    {\n      \"column\": \"Queensboro Bridge\",\n      \"properties\": {\n        \"dtype\": \"number\",\n        \"std\": 1099.2544194989061,\n        \"min\": 1306.0,\n        \"max\": 5032.0,\n        \"num_unique_values\": 30,\n        \"samples\": [\n          3657.0,\n          4051.0,\n          3957.0\n        ],\n        \"semantic_type\": \"\",\n        \"description\": \"\"\n      }\n    },\n    {\n      \"column\": \"Total\",\n      \"properties\": {\n        \"dtype\": \"number\",\n        \"std\": 5569,\n        \"min\": 4335,\n        \"max\": 23318,\n        \"num_unique_values\": 30,\n        \"samples\": [\n          15631,\n          16375,\n          16740\n        ],\n        \"semantic_type\": \"\",\n        \"description\": \"\"\n      }\n    }\n  ]\n}"
            }
          },
          "metadata": {},
          "execution_count": 7
        }
      ]
    },
    {
      "cell_type": "code",
      "source": [
        "# try info"
      ],
      "metadata": {
        "id": "upU1gUqMJfLA"
      },
      "execution_count": 8,
      "outputs": []
    },
    {
      "cell_type": "code",
      "source": [
        "# investigate describe()"
      ],
      "metadata": {
        "id": "bCAQyXCuJfnR"
      },
      "execution_count": 9,
      "outputs": []
    },
    {
      "cell_type": "code",
      "source": [],
      "metadata": {
        "id": "ynPCXjC65dQw"
      },
      "execution_count": 9,
      "outputs": []
    },
    {
      "cell_type": "code",
      "source": [],
      "metadata": {
        "id": "RvBhKUc75zYz"
      },
      "execution_count": 9,
      "outputs": []
    },
    {
      "cell_type": "code",
      "source": [],
      "metadata": {
        "id": "XxUYCUct6SDG"
      },
      "execution_count": 9,
      "outputs": []
    },
    {
      "cell_type": "code",
      "source": [],
      "metadata": {
        "id": "d0PY2ysi9vq8"
      },
      "execution_count": 9,
      "outputs": []
    },
    {
      "cell_type": "code",
      "source": [],
      "metadata": {
        "id": "0ZRR1pV4_wmR"
      },
      "execution_count": 9,
      "outputs": []
    },
    {
      "cell_type": "code",
      "source": [],
      "metadata": {
        "id": "gE_OZXib_6SX"
      },
      "execution_count": 9,
      "outputs": []
    },
    {
      "cell_type": "markdown",
      "source": [
        "## Feature Enginnering and Data Augmentation"
      ],
      "metadata": {
        "id": "qKylx8ZxJgAB"
      }
    },
    {
      "cell_type": "markdown",
      "source": [
        "### **Data Augmentation**  \n",
        "**Definition:**\n",
        "Data augmentation is the process of artificially expanding the size and diversity of a training dataset by applying transformations or modifications to the existing data while preserving the underlying labels or structure. It is commonly used in machine learning, especially in computer vision and natural language processing, to improve model performance and robustness.\n",
        "\n",
        "### **Feature Engineering**  \n",
        "**Definition:**\n",
        "Feature engineering is the process of creating, modifying, or selecting relevant features (input variables) from raw data to improve the performance of a machine learning model. It involves transforming raw data into a format that makes it more suitable for algorithms to learn patterns.\n"
      ],
      "metadata": {
        "id": "74NeCrCiJqWB"
      }
    },
    {
      "cell_type": "code",
      "source": [],
      "metadata": {
        "id": "WLdk5nbKJqzL"
      },
      "execution_count": 9,
      "outputs": []
    },
    {
      "cell_type": "code",
      "source": [],
      "metadata": {
        "id": "nhSF6JJvK8yV"
      },
      "execution_count": 9,
      "outputs": []
    },
    {
      "cell_type": "code",
      "source": [],
      "metadata": {
        "id": "woEvlDOsJ2B3"
      },
      "execution_count": 9,
      "outputs": []
    },
    {
      "cell_type": "markdown",
      "source": [
        "## Machine Learning Model"
      ],
      "metadata": {
        "id": "JtZjh6LZK9i7"
      }
    },
    {
      "cell_type": "markdown",
      "source": [
        "### Split the data to train and test"
      ],
      "metadata": {
        "id": "LAK2BuxWLC5D"
      }
    },
    {
      "cell_type": "code",
      "source": [],
      "metadata": {
        "id": "OXzn3wVgHLXW"
      },
      "execution_count": 9,
      "outputs": []
    },
    {
      "cell_type": "code",
      "source": [],
      "metadata": {
        "id": "MMSuVHCQLGDh"
      },
      "execution_count": 9,
      "outputs": []
    },
    {
      "cell_type": "code",
      "source": [],
      "metadata": {
        "id": "wtBJzkm3xby_"
      },
      "execution_count": 9,
      "outputs": []
    },
    {
      "cell_type": "markdown",
      "source": [
        "### Create the model"
      ],
      "metadata": {
        "id": "xN2sJm5ELGzD"
      }
    },
    {
      "cell_type": "code",
      "source": [],
      "metadata": {
        "id": "BmBPs2R8LSad"
      },
      "execution_count": 9,
      "outputs": []
    },
    {
      "cell_type": "code",
      "source": [],
      "metadata": {
        "id": "_6-vG31RCjNW"
      },
      "execution_count": 9,
      "outputs": []
    },
    {
      "cell_type": "markdown",
      "source": [
        "### Train the model"
      ],
      "metadata": {
        "id": "8LJspZOjLSuV"
      }
    },
    {
      "cell_type": "code",
      "source": [],
      "metadata": {
        "id": "ZbLd6tU0LU-o"
      },
      "execution_count": 9,
      "outputs": []
    },
    {
      "cell_type": "markdown",
      "source": [
        "### Make predictions"
      ],
      "metadata": {
        "id": "2jhhDHYbLVSg"
      }
    },
    {
      "cell_type": "code",
      "source": [],
      "metadata": {
        "id": "Jhjz5c3uLfT5"
      },
      "execution_count": 9,
      "outputs": []
    },
    {
      "cell_type": "markdown",
      "source": [
        "#### Hyperparameter Search"
      ],
      "metadata": {
        "id": "OfskVDR5xo33"
      }
    },
    {
      "cell_type": "code",
      "source": [
        "# Hint: google GridSearchCV()\n"
      ],
      "metadata": {
        "id": "oy3nD2xBxoi9"
      },
      "execution_count": 10,
      "outputs": []
    },
    {
      "cell_type": "markdown",
      "source": [
        "### Evaluate the Model"
      ],
      "metadata": {
        "id": "KefJ8f62LftJ"
      }
    },
    {
      "cell_type": "markdown",
      "source": [
        "**MSE (Mean Squared Error) – The average of the squared differences between the predicted and actual values.**  \n",
        "Example: If the squared errors for three predictions are 4, 9, and 1, then MSE = (4 + 9 + 1) / 3 ≈ 4.67.\n",
        "\n",
        "**RMSE (Root Mean Squared Error) – The square root of the MSE, providing an error measure in the same unit as the target variable.**  \n",
        "Example: With an MSE of 4.67, RMSE = √4.67 ≈ 2.16.\n",
        "\n",
        "**MAE (Mean Absolute Error) – The average of the absolute differences between the predicted and actual values.**  \n",
        "Example: If the absolute errors for three predictions are 2, 3, and 1, then MAE = (2 + 3 + 1) / 3 = 2.\n",
        "\n",
        "**R-squared (Coefficient of Determination) – The proportion of the variance in the dependent variable that is explained by the independent variables.**  \n",
        "Example: An R-squared value of 0.8 indicates that 80% of the variability in the output is explained by the model, with the remaining 20% unexplained.\n"
      ],
      "metadata": {
        "id": "bYvhqMR4eqMq"
      }
    },
    {
      "cell_type": "code",
      "source": [
        "# Evaluate the model using regression metrics\n",
        "from sklearn.metrics import mean_squared_error, r2_score, mean_absolute_error\n",
        "\n",
        "# Calculate Mean Squared Error (MSE)\n",
        "mse = mean_squared_error(y_test, y_pred)\n",
        "\n",
        "# Calculate Root Mean Squared Error (RMSE)\n",
        "rmse = np.sqrt(mse)\n",
        "\n",
        "# Calculate Mean Absolute Error (MAE)\n",
        "mae = mean_absolute_error(y_test, y_pred)\n",
        "\n",
        "# Calculate R-squared (R2)\n",
        "r2 = r2_score(y_test, y_pred)\n",
        "\n",
        "# Print the evaluation metrics\n",
        "print('Mean Squared Error (MSE):', mse)\n",
        "print('Root Mean Squared Error (RMSE):', rmse)\n",
        "print('Mean Absolute Error (MAE):', mae)\n",
        "print('R-squared (R2):', r2)"
      ],
      "metadata": {
        "id": "WZSimnwBxba6"
      },
      "execution_count": 12,
      "outputs": []
    },
    {
      "cell_type": "code",
      "source": [],
      "metadata": {
        "id": "V0jQXowqLkkK"
      },
      "execution_count": null,
      "outputs": []
    },
    {
      "cell_type": "code",
      "source": [],
      "metadata": {
        "id": "5rEIDcYeDKG8"
      },
      "execution_count": null,
      "outputs": []
    }
  ]
}