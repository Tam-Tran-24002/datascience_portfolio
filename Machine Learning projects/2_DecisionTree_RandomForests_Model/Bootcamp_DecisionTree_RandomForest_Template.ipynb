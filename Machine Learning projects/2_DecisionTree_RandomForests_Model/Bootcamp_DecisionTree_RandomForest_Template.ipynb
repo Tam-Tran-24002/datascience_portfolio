{
  "nbformat": 4,
  "nbformat_minor": 0,
  "metadata": {
    "colab": {
      "provenance": [],
      "collapsed_sections": [
        "ui9HCoerL1ei"
      ],
      "authorship_tag": "ABX9TyPG/yIsw+LPdoDzowwIUXv/",
      "include_colab_link": true
    },
    "kernelspec": {
      "name": "python3",
      "display_name": "Python 3"
    },
    "language_info": {
      "name": "python"
    }
  },
  "cells": [
    {
      "cell_type": "markdown",
      "metadata": {
        "id": "view-in-github",
        "colab_type": "text"
      },
      "source": [
        "<a href=\"https://colab.research.google.com/github/BYUIDSS/DSS-ML-Bootcamp/blob/main/2_DecisionTree_RandomForests_Model/Bootcamp_DecisionTree_RandomForest_Template.ipynb\" target=\"_parent\"><img src=\"https://colab.research.google.com/assets/colab-badge.svg\" alt=\"Open In Colab\"/></a>"
      ]
    },
    {
      "cell_type": "markdown",
      "source": [
        "# Decision Tree Machine Learning Model 💻 🧠\n",
        "\n",
        "---\n",
        "\n"
      ],
      "metadata": {
        "id": "AHAWitwpCmVO"
      }
    },
    {
      "cell_type": "markdown",
      "source": [
        "### 🔴 PLEASE COPY THIS NOTEBOOK INTO YOUR OWN GITHUB OR GOOGLE DRIVE DO NOT MODIFY THIS VERSION🔴"
      ],
      "metadata": {
        "id": "2niUAymxL6SK"
      }
    },
    {
      "cell_type": "markdown",
      "source": [
        "## Overview"
      ],
      "metadata": {
        "id": "ui9HCoerL1ei"
      }
    },
    {
      "cell_type": "markdown",
      "source": [
        "**Decision Tree (DT) is a supervised machine learning algorithm used for both classification and regression tasks. It splits data into branches based on feature values to make predictions.**  \n",
        "\n",
        "<br>\n",
        "\n",
        "---\n",
        "\n",
        "<br>\n",
        "\n",
        "**Definition**  \n",
        "A Decision Tree is a flowchart-like model where data is split into smaller subsets based on feature conditions. The structure consists of:  \n",
        "\n",
        "* **Root Node**: The starting point that represents the entire dataset.  \n",
        "* **Decision Nodes**: Points where the data is split based on a feature.  \n",
        "* **Leaves**: Terminal nodes that provide the final prediction.  \n",
        "\n",
        "For **classification**, a Decision Tree assigns class labels based on feature splits.  \n",
        "For **regression**, it predicts continuous values using the average or mean of data points in each leaf.  \n",
        "\n",
        "<br>\n",
        "\n",
        "---\n",
        "\n",
        "<br>\n",
        "\n",
        "**Key Concepts**\n",
        "1. **Splitting Criteria**:  \n",
        "   - Determines how the dataset is divided at each step.  \n",
        "   - Common methods:\n",
        "     * **Gini Impurity** (Classification) – Measures the likelihood of incorrect classification.  \n",
        "     * **Entropy** (Classification) – Uses information gain to decide splits.  \n",
        "     * **Mean Squared Error (MSE)** (Regression) – Measures variance within nodes.  \n",
        "\n",
        "2. **Tree Depth & Overfitting**:  \n",
        "   - **Deeper trees** fit training data better but may overfit.  \n",
        "   - **Pruning** (removing unnecessary branches) improves generalization.  \n",
        "\n",
        "3. **Feature Importance**:  \n",
        "   - Decision Trees rank features by their impact on predictions.  \n",
        "   - Helps in feature selection for other models.  \n",
        "\n",
        "4. **Handling Missing Data**:  \n",
        "   - Some implementations allow surrogate splits to handle missing values.  \n",
        "\n",
        "<br>\n",
        "\n",
        "---\n",
        "\n",
        "<br>\n",
        "\n",
        "**Pros**\n",
        "1. **Easy to Understand & Interpret** – Can be visualized as a simple flowchart.  \n",
        "2. **No Need for Feature Scaling** – Works with both categorical and numerical features.  \n",
        "3. **Handles Non-Linearity** – Can model complex relationships without requiring transformation.  \n",
        "4. **Fast for Small Datasets** – Training and inference are relatively quick.  \n",
        "\n",
        "<br>\n",
        "\n",
        "---\n",
        "\n",
        "<br>\n",
        "\n",
        "**Cons**\n",
        "1. **Prone to Overfitting** – Deep trees can memorize training data, reducing generalization.  \n",
        "2. **Unstable to Small Changes** – Small variations in data can change the tree structure significantly.  \n",
        "3. **Less Efficient on Large Datasets** – Computationally expensive for large datasets.  \n",
        "\n",
        "<br>\n",
        "\n",
        "---\n",
        "\n",
        "<br>\n",
        "\n",
        "**Tips**\n",
        "* **Limit Tree Depth** – Use `max_depth` to prevent overfitting.  \n",
        "* **Pruning Techniques** – Use pre-pruning (`max_leaf_nodes`) or post-pruning to remove unnecessary branches.  \n",
        "* **Use Feature Importance** – Identify the most influential features and remove irrelevant ones.  \n",
        "* **Consider Ensemble Methods** – Random Forest or Gradient Boosting improve Decision Trees by reducing variance.  \n",
        "\n",
        "<br>\n",
        "\n",
        "\n",
        "---\n",
        "\n",
        "<br>\n",
        "\n",
        "**Useful Articles and Videos**\n",
        "* https://www.datacamp.com/tutorial/decision-tree-classification-python\n",
        "* https://www.ibm.com/think/topics/decision-trees\n",
        "* https://www.youtube.com/watch?v=6DlWndLbk90\n",
        "* https://www.youtube.com/watch?v=ZOiBe-nrmc4\n",
        "\n",
        "\n",
        "<br>"
      ],
      "metadata": {
        "id": "KoKmsmdLC8f9"
      }
    },
    {
      "cell_type": "markdown",
      "source": [
        "## Import Data/Libraries"
      ],
      "metadata": {
        "id": "sZVO9xtJJIuG"
      }
    },
    {
      "cell_type": "code",
      "source": [
        "!pip install lets_plot"
      ],
      "metadata": {
        "id": "XovyWRX24bZj",
        "colab": {
          "base_uri": "https://localhost:8080/"
        },
        "outputId": "8fa6ddb6-9f7d-4593-93fa-2fec7bd4e862"
      },
      "execution_count": null,
      "outputs": [
        {
          "output_type": "stream",
          "name": "stdout",
          "text": [
            "Collecting lets_plot\n",
            "  Downloading lets_plot-4.5.2-cp311-cp311-manylinux_2_17_x86_64.manylinux2014_x86_64.whl.metadata (11 kB)\n",
            "Collecting pypng (from lets_plot)\n",
            "  Downloading pypng-0.20220715.0-py3-none-any.whl.metadata (13 kB)\n",
            "Collecting palettable (from lets_plot)\n",
            "  Downloading palettable-3.3.3-py2.py3-none-any.whl.metadata (3.3 kB)\n",
            "Downloading lets_plot-4.5.2-cp311-cp311-manylinux_2_17_x86_64.manylinux2014_x86_64.whl (3.4 MB)\n",
            "\u001b[2K   \u001b[90m━━━━━━━━━━━━━━━━━━━━━━━━━━━━━━━━━━━━━━━━\u001b[0m \u001b[32m3.4/3.4 MB\u001b[0m \u001b[31m20.3 MB/s\u001b[0m eta \u001b[36m0:00:00\u001b[0m\n",
            "\u001b[?25hDownloading palettable-3.3.3-py2.py3-none-any.whl (332 kB)\n",
            "\u001b[2K   \u001b[90m━━━━━━━━━━━━━━━━━━━━━━━━━━━━━━━━━━━━━━━━\u001b[0m \u001b[32m332.3/332.3 kB\u001b[0m \u001b[31m8.7 MB/s\u001b[0m eta \u001b[36m0:00:00\u001b[0m\n",
            "\u001b[?25hDownloading pypng-0.20220715.0-py3-none-any.whl (58 kB)\n",
            "\u001b[2K   \u001b[90m━━━━━━━━━━━━━━━━━━━━━━━━━━━━━━━━━━━━━━━━\u001b[0m \u001b[32m58.1/58.1 kB\u001b[0m \u001b[31m911.6 kB/s\u001b[0m eta \u001b[36m0:00:00\u001b[0m\n",
            "\u001b[?25hInstalling collected packages: pypng, palettable, lets_plot\n",
            "Successfully installed lets_plot-4.5.2 palettable-3.3.3 pypng-0.20220715.0\n"
          ]
        }
      ]
    },
    {
      "cell_type": "code",
      "execution_count": null,
      "metadata": {
        "id": "HWL1QsBFCYTe"
      },
      "outputs": [],
      "source": [
        "# needed libraries for Decision Tree models\n",
        "import pandas as pd\n",
        "from sklearn import tree\n",
        "from sklearn.tree import DecisionTreeClassifier\n",
        "from sklearn.metrics import confusion_matrix, accuracy_score, f1_score, recall_score, precision_score\n",
        "from sklearn.model_selection import cross_val_score,  train_test_split , KFold\n",
        "from sklearn.preprocessing import StandardScaler, Normalizer\n",
        "import lets_plot as lp\n",
        "import matplotlib.pyplot as plt\n",
        "import numpy as np\n",
        "import seaborn as sns\n",
        "\n",
        "# foundation dataset\n",
        "titanic_df = pd.read_csv('https://raw.githubusercontent.com/datasciencedojo/datasets/master/titanic.csv')\n",
        "\n",
        "# stretch dataset\n",
        "cleveland_df = pd.read_csv('https://archive.ics.uci.edu/ml/machine-learning-databases/heart-disease/processed.cleveland.data', header=None)\n",
        "hungarian_df = pd.read_csv('https://archive.ics.uci.edu/ml/machine-learning-databases/heart-disease/processed.hungarian.data', header=None)\n",
        "switzerland_df = pd.read_csv('https://archive.ics.uci.edu/ml/machine-learning-databases/heart-disease/processed.switzerland.data', header=None)"
      ]
    },
    {
      "cell_type": "markdown",
      "source": [
        "## Explore, Visualize and Understand the Data"
      ],
      "metadata": {
        "id": "7eveNgiiJPAZ"
      }
    },
    {
      "cell_type": "code",
      "source": [],
      "metadata": {
        "id": "j-9s4kegJeVc"
      },
      "execution_count": null,
      "outputs": []
    },
    {
      "cell_type": "code",
      "source": [],
      "metadata": {
        "id": "upU1gUqMJfLA"
      },
      "execution_count": null,
      "outputs": []
    },
    {
      "cell_type": "code",
      "source": [],
      "metadata": {
        "id": "bCAQyXCuJfnR"
      },
      "execution_count": null,
      "outputs": []
    },
    {
      "cell_type": "code",
      "source": [],
      "metadata": {
        "id": "ynPCXjC65dQw"
      },
      "execution_count": null,
      "outputs": []
    },
    {
      "cell_type": "code",
      "source": [],
      "metadata": {
        "id": "RvBhKUc75zYz"
      },
      "execution_count": null,
      "outputs": []
    },
    {
      "cell_type": "code",
      "source": [],
      "metadata": {
        "id": "XxUYCUct6SDG"
      },
      "execution_count": null,
      "outputs": []
    },
    {
      "cell_type": "code",
      "source": [],
      "metadata": {
        "id": "d0PY2ysi9vq8"
      },
      "execution_count": null,
      "outputs": []
    },
    {
      "cell_type": "code",
      "source": [],
      "metadata": {
        "id": "0ZRR1pV4_wmR"
      },
      "execution_count": null,
      "outputs": []
    },
    {
      "cell_type": "code",
      "source": [],
      "metadata": {
        "id": "gE_OZXib_6SX"
      },
      "execution_count": null,
      "outputs": []
    },
    {
      "cell_type": "markdown",
      "source": [
        "## Feature Enginnering and Data Augmentation"
      ],
      "metadata": {
        "id": "qKylx8ZxJgAB"
      }
    },
    {
      "cell_type": "markdown",
      "source": [
        "### **Data Augmentation**  \n",
        "**Definition:**\n",
        "Data augmentation is the process of artificially expanding the size and diversity of a training dataset by applying transformations or modifications to the existing data while preserving the underlying labels or structure. It is commonly used in machine learning, especially in computer vision and natural language processing, to improve model performance and robustness.\n",
        "\n",
        "### **Feature Engineering**  \n",
        "**Definition:**\n",
        "Feature engineering is the process of creating, modifying, or selecting relevant features (input variables) from raw data to improve the performance of a machine learning model. It involves transforming raw data into a format that makes it more suitable for algorithms to learn patterns.\n"
      ],
      "metadata": {
        "id": "74NeCrCiJqWB"
      }
    },
    {
      "cell_type": "code",
      "source": [],
      "metadata": {
        "id": "WLdk5nbKJqzL"
      },
      "execution_count": null,
      "outputs": []
    },
    {
      "cell_type": "code",
      "source": [],
      "metadata": {
        "id": "nhSF6JJvK8yV"
      },
      "execution_count": null,
      "outputs": []
    },
    {
      "cell_type": "markdown",
      "source": [
        "## Machine Learning Model: Decision Tree"
      ],
      "metadata": {
        "id": "JtZjh6LZK9i7"
      }
    },
    {
      "cell_type": "markdown",
      "source": [
        "### Split the data"
      ],
      "metadata": {
        "id": "LAK2BuxWLC5D"
      }
    },
    {
      "cell_type": "code",
      "source": [],
      "metadata": {
        "id": "MMSuVHCQLGDh"
      },
      "execution_count": null,
      "outputs": []
    },
    {
      "cell_type": "markdown",
      "source": [
        "### Create the model"
      ],
      "metadata": {
        "id": "xN2sJm5ELGzD"
      }
    },
    {
      "cell_type": "code",
      "source": [],
      "metadata": {
        "id": "BmBPs2R8LSad"
      },
      "execution_count": null,
      "outputs": []
    },
    {
      "cell_type": "code",
      "source": [],
      "metadata": {
        "id": "_6-vG31RCjNW"
      },
      "execution_count": null,
      "outputs": []
    },
    {
      "cell_type": "markdown",
      "source": [
        "### Train the model"
      ],
      "metadata": {
        "id": "8LJspZOjLSuV"
      }
    },
    {
      "cell_type": "code",
      "source": [
        "# Fitting the model\n"
      ],
      "metadata": {
        "id": "ZbLd6tU0LU-o"
      },
      "execution_count": null,
      "outputs": []
    },
    {
      "cell_type": "markdown",
      "source": [
        "### Make predictions"
      ],
      "metadata": {
        "id": "2jhhDHYbLVSg"
      }
    },
    {
      "cell_type": "code",
      "source": [
        "# Predicting the Test set results\n"
      ],
      "metadata": {
        "id": "Jhjz5c3uLfT5"
      },
      "execution_count": null,
      "outputs": []
    },
    {
      "cell_type": "markdown",
      "source": [
        "### Evaluate the Model"
      ],
      "metadata": {
        "id": "KefJ8f62LftJ"
      }
    },
    {
      "cell_type": "markdown",
      "source": [
        "**Accuracy – The percentage of total predictions that are correct.**  \n",
        "Example: If a spam filter correctly classifies 90 out of 100 emails (whether spam or not), the accuracy is 90%.  \n",
        "\n",
        "**F1 Score  – Out of all the positive predictions, how many were actually correct.**  \n",
        "Example: If a spam filter predicts 20 emails as spam, but only 15 are actually spam, precision is 15/20 = 75%.  \n",
        "\n",
        "\n",
        "**Recall Score – Out of all the actual positive cases, how many did the model correctly identify.**  \n",
        "Example: If there were 25 spam emails in total, and the model correctly identified 15 of them, recall is 15/25 = 60%.  \n",
        "\n",
        "**Precision Score – A balance between precision and recall (harmonic mean).**  \n",
        "Example: If precision is 75% and recall is 60%, F1 score is (2 × 75 × 60) / (75 + 60) = 66.7%.  \n",
        "\n"
      ],
      "metadata": {
        "id": "bYvhqMR4eqMq"
      }
    },
    {
      "cell_type": "code",
      "source": [
        "# Accuracy, F1 Score, Recall score, Precision score\n",
        "accuracy = accuracy_score(y_test, y_pred)*100\n",
        "f1_score = f1_score(y_test, y_pred, average='weighted')\n",
        "recall_score = recall_score(y_test, y_pred, average='weighted')\n",
        "precision_score = precision_score(y_test, y_pred, average='weighted')\n",
        "\n",
        "print('Accuracy: ' + str(round(accuracy, 2)) + ' %.')\n",
        "print('F1 Score: ' + str(round(f1_score, 2)) + ' %.')\n",
        "print('Recall Score: ' + str(round(recall_score, 2)) + ' %.')\n",
        "print('Precision Score: ' + str(round(precision_score, 2)) + ' %.')"
      ],
      "metadata": {
        "id": "V0jQXowqLkkK"
      },
      "execution_count": null,
      "outputs": []
    },
    {
      "cell_type": "markdown",
      "source": [
        "# Random Forest Model"
      ],
      "metadata": {
        "id": "Bd08gwQ_yL5u"
      }
    },
    {
      "cell_type": "markdown",
      "source": [
        "## Overview of Random Forests"
      ],
      "metadata": {
        "id": "QEC0SEDFEYJ6"
      }
    },
    {
      "cell_type": "markdown",
      "source": [
        "\n",
        "\n",
        "**Random Forest (RF) is a supervised machine learning algorithm used for both classification and regression tasks. It builds multiple decision trees and combines their outputs for better accuracy and stability.**\n",
        "\n",
        "<br>\n",
        "\n",
        "**Definition**  \n",
        "A Random Forest is an ensemble learning method that creates a \"forest\" of decision trees during training. Instead of relying on a single tree, Random Forest combines the predictions of multiple trees to improve performance. The structure consists of:\n",
        "\n",
        "- Decision Trees: Individual trees that make predictions based on subsets of data and features.\n",
        "- Bagging (Bootstrap Aggregating): Each tree is trained on a randomly sampled subset of the data.\n",
        "- Voting/Averaging: Combines the predictions from all trees:\n",
        "- For classification, the majority vote decides the class.\n",
        "- For regression, the average of all tree predictions is used.  \n",
        "Random Forest reduces the risk of overfitting compared to individual decision trees and works well for both categorical and numerical data.\n",
        "\n",
        "<br>\n",
        "\n",
        "**Key Concepts**\n",
        "\n",
        "1. Bagging:\n",
        "  - Random Forest uses bootstrapping to train each tree on a different sample of the data.\n",
        "  - This creates diversity among trees, making the model more robust.\n",
        "2. Feature Randomness:\n",
        "  - At each split, Random Forest considers a random subset of features rather than all features.\n",
        "  - This reduces correlation between trees and improves generalization.\n",
        "3. Out-of-Bag (OOB) Error:\n",
        "  - Trees not trained on certain data points (left out during bootstrapping) can be used to validate the model.\n",
        "  - OOB error gives an unbiased estimate of model performance.\n",
        "4. Feature Importance:\n",
        "  - Random Forest provides a ranking of feature importance based on how often features are used for splitting across trees.\n",
        "  - Useful for identifying key predictors in your data.\n",
        "<br>\n",
        "\n",
        "**Pros**\n",
        "\n",
        "Improved Accuracy – Combines multiple trees, reducing overfitting.\n",
        "Robust to Noise – Handles outliers and noisy data better than individual trees.\n",
        "Handles Large Datasets – Can scale well with more data.\n",
        "Feature Selection – Provides insights into the importance of features.\n",
        "No Need for Feature Scaling – Works with unscaled data, both numerical and categorical.\n",
        "<br>\n",
        "\n",
        "**Cons**\n",
        "\n",
        "Less Interpretable – Harder to visualize compared to a single decision tree.\n",
        "Computationally Intensive – Training many trees can take time and memory for large datasets.\n",
        "Overfitting Risk with Too Many Trees – Although rare, excessive trees might still overfit without tuning.\n",
        "Slower Inference – Predictions may take longer because they aggregate results from multiple trees.\n",
        "<br>\n",
        "\n",
        "**Tips**\n",
        "\n",
        "* Tune n_estimators – Adjust the number of trees to balance accuracy and computational cost.\n",
        "* Limit Tree Depth – Use max_depth to avoid overfitting while maintaining performance.\n",
        "* Optimize Feature Subset Size – Use max_features to control how many features each tree considers at a split.\n",
        "* Use Feature Importance – Rank and prioritize the most important features in your dataset.\n",
        "* Combine with Other Methods – Random Forest pairs well with techniques like PCA for dimensionality reduction.\n",
        "<br>\n",
        "\n",
        "**Useful Articles and Videos**\n",
        "\n",
        "https://www.datacamp.com/tutorial/random-forests-classifier-python  \n",
        "https://www.ibm.com/topics/random-forest  \n",
        "https://www.youtube.com/watch?v=J4Wdy0Wc_xQ    \n",
        "https://www.youtube.com/watch?v=QHOazyP-YlM\n",
        "\n",
        "<br>\n"
      ],
      "metadata": {
        "id": "Obw9DkJA045B"
      }
    },
    {
      "cell_type": "code",
      "source": [
        "from sklearn import preprocessing\n",
        "from sklearn.preprocessing import OneHotEncoder\n",
        "from sklearn.model_selection import train_test_split\n",
        "from sklearn.ensemble import RandomForestClassifier\n",
        "from sklearn.model_selection import GridSearchCV"
      ],
      "metadata": {
        "id": "CSoMEYSkKY3P"
      },
      "execution_count": null,
      "outputs": []
    },
    {
      "cell_type": "markdown",
      "source": [
        "### Create Model"
      ],
      "metadata": {
        "id": "1cYoyYdYF12B"
      }
    },
    {
      "cell_type": "code",
      "source": [],
      "metadata": {
        "id": "5rEIDcYeDKG8"
      },
      "execution_count": null,
      "outputs": []
    },
    {
      "cell_type": "markdown",
      "source": [
        "### Train Model"
      ],
      "metadata": {
        "id": "qAnPZ-LTF3zd"
      }
    },
    {
      "cell_type": "code",
      "source": [],
      "metadata": {
        "id": "TbzR48tcFjl5"
      },
      "execution_count": null,
      "outputs": []
    },
    {
      "cell_type": "markdown",
      "source": [
        "### Make Predictions"
      ],
      "metadata": {
        "id": "UfYwgg0YF7S7"
      }
    },
    {
      "cell_type": "code",
      "source": [],
      "metadata": {
        "id": "yCa2oqzMF-V4"
      },
      "execution_count": null,
      "outputs": []
    },
    {
      "cell_type": "markdown",
      "source": [
        "### Hyperparameter Search"
      ],
      "metadata": {
        "id": "BYrraE6iF-_t"
      }
    },
    {
      "cell_type": "code",
      "source": [],
      "metadata": {
        "id": "X00EnPnyGKed"
      },
      "execution_count": null,
      "outputs": []
    },
    {
      "cell_type": "markdown",
      "source": [
        "### Evaluate the Model"
      ],
      "metadata": {
        "id": "GRM-RMw1GLfg"
      }
    },
    {
      "cell_type": "code",
      "source": [
        "accuracy = accuracy_score(y_test, y_pred)*100\n",
        "f1_score = f1_score(y_test, y_pred, average='weighted')\n",
        "recall_score = recall_score(y_test, y_pred, average='weighted')\n",
        "precision_score = precision_score(y_test, y_pred, average='weighted')\n",
        "\n",
        "print('Accuracy: ' + str(round(accuracy, 2)) + ' %.')\n",
        "print('F1 Score: ' + str(round(f1_score, 2)) + ' %.')\n",
        "print('Recall Score: ' + str(round(recall_score, 2)) + ' %.')\n",
        "print('Precision Score: ' + str(round(precision_score, 2)) + ' %.')"
      ],
      "metadata": {
        "id": "Fwx7z3roGOd0"
      },
      "execution_count": null,
      "outputs": []
    },
    {
      "cell_type": "code",
      "source": [],
      "metadata": {
        "id": "jiaCaeGqGSke"
      },
      "execution_count": null,
      "outputs": []
    }
  ]
}